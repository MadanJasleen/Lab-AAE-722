{
 "cells": [
  {
   "cell_type": "code",
   "execution_count": 1,
   "id": "9cd834d2-b826-4c85-93cf-8aa6e60d305d",
   "metadata": {},
   "outputs": [],
   "source": [
    "import pandas as pd\n",
    "import numpy as np \n",
    "import matplotlib.pyplot as plt\n",
    "import seaborn as sns\n",
    "import statsmodels.api as sm\n",
    "import ISLP"
   ]
  },
  {
   "cell_type": "code",
   "execution_count": 2,
   "id": "7424a587-0f25-4071-89a6-038dbbd66392",
   "metadata": {},
   "outputs": [
    {
     "data": {
      "text/plain": [
       "Index(['default', 'student', 'balance', 'income'], dtype='object')"
      ]
     },
     "execution_count": 2,
     "metadata": {},
     "output_type": "execute_result"
    }
   ],
   "source": [
    "from ISLP import load_data\n",
    "default = load_data('Default')\n",
    "default.columns"
   ]
  },
  {
   "cell_type": "code",
   "execution_count": 3,
   "id": "6dbe13a9-cfeb-49f1-a949-86aa0a49593d",
   "metadata": {},
   "outputs": [
    {
     "data": {
      "text/html": [
       "<div>\n",
       "<style scoped>\n",
       "    .dataframe tbody tr th:only-of-type {\n",
       "        vertical-align: middle;\n",
       "    }\n",
       "\n",
       "    .dataframe tbody tr th {\n",
       "        vertical-align: top;\n",
       "    }\n",
       "\n",
       "    .dataframe thead th {\n",
       "        text-align: right;\n",
       "    }\n",
       "</style>\n",
       "<table border=\"1\" class=\"dataframe\">\n",
       "  <thead>\n",
       "    <tr style=\"text-align: right;\">\n",
       "      <th></th>\n",
       "      <th>default</th>\n",
       "      <th>student</th>\n",
       "      <th>balance</th>\n",
       "      <th>income</th>\n",
       "    </tr>\n",
       "  </thead>\n",
       "  <tbody>\n",
       "    <tr>\n",
       "      <th>0</th>\n",
       "      <td>No</td>\n",
       "      <td>No</td>\n",
       "      <td>729.526495</td>\n",
       "      <td>44361.625074</td>\n",
       "    </tr>\n",
       "    <tr>\n",
       "      <th>1</th>\n",
       "      <td>No</td>\n",
       "      <td>Yes</td>\n",
       "      <td>817.180407</td>\n",
       "      <td>12106.134700</td>\n",
       "    </tr>\n",
       "    <tr>\n",
       "      <th>2</th>\n",
       "      <td>No</td>\n",
       "      <td>No</td>\n",
       "      <td>1073.549164</td>\n",
       "      <td>31767.138947</td>\n",
       "    </tr>\n",
       "    <tr>\n",
       "      <th>3</th>\n",
       "      <td>No</td>\n",
       "      <td>No</td>\n",
       "      <td>529.250605</td>\n",
       "      <td>35704.493935</td>\n",
       "    </tr>\n",
       "    <tr>\n",
       "      <th>4</th>\n",
       "      <td>No</td>\n",
       "      <td>No</td>\n",
       "      <td>785.655883</td>\n",
       "      <td>38463.495879</td>\n",
       "    </tr>\n",
       "  </tbody>\n",
       "</table>\n",
       "</div>"
      ],
      "text/plain": [
       "  default student      balance        income\n",
       "0      No      No   729.526495  44361.625074\n",
       "1      No     Yes   817.180407  12106.134700\n",
       "2      No      No  1073.549164  31767.138947\n",
       "3      No      No   529.250605  35704.493935\n",
       "4      No      No   785.655883  38463.495879"
      ]
     },
     "execution_count": 3,
     "metadata": {},
     "output_type": "execute_result"
    }
   ],
   "source": [
    "default.head()"
   ]
  },
  {
   "cell_type": "code",
   "execution_count": 4,
   "id": "d2b1b536-d451-4534-b728-8426d33c09da",
   "metadata": {},
   "outputs": [],
   "source": [
    "#!pip3 install tensorflow\n",
    "from sklearn.model_selection import train_test_split\n",
    "from sklearn.linear_model import LogisticRegression\n",
    "from sklearn.metrics import accuracy_score, classification_report\n",
    "from tensorflow.keras.models import Sequential\n",
    "from tensorflow.keras.layers import Dense, Dropout"
   ]
  },
  {
   "cell_type": "code",
   "execution_count": 5,
   "id": "d0078cfb-ec17-451d-a749-9e3ee9ac1c22",
   "metadata": {},
   "outputs": [
    {
     "data": {
      "text/plain": [
       "default    category\n",
       "student    category\n",
       "balance     float64\n",
       "income      float64\n",
       "dtype: object"
      ]
     },
     "execution_count": 5,
     "metadata": {},
     "output_type": "execute_result"
    }
   ],
   "source": [
    "default.dtypes\n"
   ]
  },
  {
   "cell_type": "code",
   "execution_count": 23,
   "id": "095b2e17-a334-4575-940e-7f85164847bc",
   "metadata": {},
   "outputs": [],
   "source": [
    "default['default'] = default['default'].replace({'Yes': 1, 'No': 0})\n",
    "default['student'] = default['student'].replace({'Yes': 1, 'No': 0})\n",
    "default['student'] = default['student'].astype('int')\n"
   ]
  },
  {
   "cell_type": "code",
   "execution_count": 27,
   "id": "bc8605a4-a9b5-4038-9851-859a159de7da",
   "metadata": {},
   "outputs": [
    {
     "name": "stdout",
     "output_type": "stream",
     "text": [
      "Logistic Regression Accuracy: 0.9695\n",
      "Logistic Regression Classification Report:\n",
      "               precision    recall  f1-score   support\n",
      "\n",
      "           0       0.97      0.99      0.98      1931\n",
      "           1       0.63      0.28      0.38        69\n",
      "\n",
      "    accuracy                           0.97      2000\n",
      "   macro avg       0.80      0.63      0.68      2000\n",
      "weighted avg       0.96      0.97      0.96      2000\n",
      "\n",
      "Epoch 1/10\n"
     ]
    },
    {
     "name": "stderr",
     "output_type": "stream",
     "text": [
      "/opt/anaconda3/lib/python3.12/site-packages/keras/src/layers/core/dense.py:87: UserWarning: Do not pass an `input_shape`/`input_dim` argument to a layer. When using Sequential models, prefer using an `Input(shape)` object as the first layer in the model instead.\n",
      "  super().__init__(activity_regularizer=activity_regularizer, **kwargs)\n"
     ]
    },
    {
     "name": "stdout",
     "output_type": "stream",
     "text": [
      "250/250 - 0s - 2ms/step - accuracy: 0.9491 - loss: 0.3611\n",
      "Epoch 2/10\n",
      "250/250 - 0s - 238us/step - accuracy: 0.9670 - loss: 0.1888\n",
      "Epoch 3/10\n",
      "250/250 - 0s - 245us/step - accuracy: 0.9671 - loss: 0.1469\n",
      "Epoch 4/10\n",
      "250/250 - 0s - 244us/step - accuracy: 0.9676 - loss: 0.1246\n",
      "Epoch 5/10\n",
      "250/250 - 0s - 235us/step - accuracy: 0.9672 - loss: 0.1104\n",
      "Epoch 6/10\n",
      "250/250 - 0s - 263us/step - accuracy: 0.9693 - loss: 0.1017\n",
      "Epoch 7/10\n",
      "250/250 - 0s - 238us/step - accuracy: 0.9696 - loss: 0.0997\n",
      "Epoch 8/10\n",
      "250/250 - 0s - 235us/step - accuracy: 0.9706 - loss: 0.0940\n",
      "Epoch 9/10\n",
      "250/250 - 0s - 240us/step - accuracy: 0.9719 - loss: 0.0930\n",
      "Epoch 10/10\n",
      "250/250 - 0s - 239us/step - accuracy: 0.9703 - loss: 0.0919\n",
      "\u001b[1m63/63\u001b[0m \u001b[32m━━━━━━━━━━━━━━━━━━━━\u001b[0m\u001b[37m\u001b[0m \u001b[1m0s\u001b[0m 334us/step\n",
      "Neural Network Accuracy: 0.9695\n",
      "Neural Network Classification Report:\n",
      "               precision    recall  f1-score   support\n",
      "\n",
      "           0       0.97      1.00      0.98      1931\n",
      "           1       0.75      0.17      0.28        69\n",
      "\n",
      "    accuracy                           0.97      2000\n",
      "   macro avg       0.86      0.59      0.63      2000\n",
      "weighted avg       0.96      0.97      0.96      2000\n",
      "\n"
     ]
    }
   ],
   "source": [
    "\n",
    "X = default.drop('default', axis=1)\n",
    "y = default['default']\n",
    "y = y.astype('int')\n",
    "X_train, X_test, y_train, y_test = train_test_split(X, y, test_size=0.2, random_state=42)\n",
    "\n",
    "from sklearn.preprocessing import StandardScaler\n",
    "scaler = StandardScaler()\n",
    "X_train = scaler.fit_transform(X_train)\n",
    "X_test = scaler.transform(X_test)\n",
    "\n",
    "# logistic regression model\n",
    "logreg = LogisticRegression(max_iter=1000)\n",
    "logreg.fit(X_train, y_train)\n",
    "y_pred_logreg = logreg.predict(X_test)\n",
    "print(\"Logistic Regression Accuracy:\", accuracy_score(y_test, y_pred_logreg))\n",
    "print(\"Logistic Regression Classification Report:\\n\", classification_report(y_test, y_pred_logreg))\n",
    "\n",
    "# Build and train a neural network model\n",
    "model = Sequential()\n",
    "model.add(Dense(10, activation='relu', input_shape=(X_train.shape[1],)))\n",
    "model.add(Dropout(0.2))\n",
    "model.add(Dense(1, activation='sigmoid'))\n",
    "model.compile(loss='binary_crossentropy', optimizer='adam', metrics=['accuracy'])\n",
    "model.fit(X_train, y_train, epochs=10, batch_size=32, verbose=2)\n",
    "y_pred_nn = (model.predict(X_test) > 0.5).astype(int)\n",
    "print(\"Neural Network Accuracy:\", accuracy_score(y_test, y_pred_nn))\n",
    "print(\"Neural Network Classification Report:\\n\", classification_report(y_test, y_pred_nn))"
   ]
  },
  {
   "cell_type": "markdown",
   "id": "234f338a-8e71-4a69-9067-1c0ec83569c2",
   "metadata": {},
   "source": [
    "there is a strong class imbalance. Here default =1 is more important. we go with Logistic Regression, as it has better recall and F1-score for detecting default.\n",
    "The Neural Network performs better for Class 0, with perfect recall."
   ]
  },
  {
   "cell_type": "code",
   "execution_count": null,
   "id": "e5b8a36e-bcc2-4ef0-962f-10f4d4830018",
   "metadata": {},
   "outputs": [],
   "source": []
  }
 ],
 "metadata": {
  "kernelspec": {
   "display_name": "Python 3 (ipykernel)",
   "language": "python",
   "name": "python3"
  },
  "language_info": {
   "codemirror_mode": {
    "name": "ipython",
    "version": 3
   },
   "file_extension": ".py",
   "mimetype": "text/x-python",
   "name": "python",
   "nbconvert_exporter": "python",
   "pygments_lexer": "ipython3",
   "version": "3.12.4"
  }
 },
 "nbformat": 4,
 "nbformat_minor": 5
}
