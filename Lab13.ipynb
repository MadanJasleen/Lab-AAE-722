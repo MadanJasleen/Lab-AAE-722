{
 "cells": [
  {
   "cell_type": "code",
   "execution_count": 1,
   "id": "6e3aff03-1cf3-4143-b836-03b4c5082f45",
   "metadata": {},
   "outputs": [],
   "source": [
    "import pandas as pd\n",
    "import numpy as np \n",
    "import matplotlib.pyplot as plt\n",
    "import seaborn as sns\n",
    "import statsmodels.api as sm\n",
    "import ISLP\n",
    "from ISLP import load_data\n",
    "from ISLP import models"
   ]
  },
  {
   "cell_type": "code",
   "execution_count": 3,
   "id": "c1fd3808-2b7e-4290-9c99-c7cfa9d62b83",
   "metadata": {},
   "outputs": [
    {
     "data": {
      "text/html": [
       "<div>\n",
       "<style scoped>\n",
       "    .dataframe tbody tr th:only-of-type {\n",
       "        vertical-align: middle;\n",
       "    }\n",
       "\n",
       "    .dataframe tbody tr th {\n",
       "        vertical-align: top;\n",
       "    }\n",
       "\n",
       "    .dataframe thead th {\n",
       "        text-align: right;\n",
       "    }\n",
       "</style>\n",
       "<table border=\"1\" class=\"dataframe\">\n",
       "  <thead>\n",
       "    <tr style=\"text-align: right;\">\n",
       "      <th></th>\n",
       "      <th>Sales</th>\n",
       "      <th>CompPrice</th>\n",
       "      <th>Income</th>\n",
       "      <th>Advertising</th>\n",
       "      <th>Population</th>\n",
       "      <th>Price</th>\n",
       "      <th>ShelveLoc</th>\n",
       "      <th>Age</th>\n",
       "      <th>Education</th>\n",
       "      <th>Urban</th>\n",
       "      <th>US</th>\n",
       "    </tr>\n",
       "  </thead>\n",
       "  <tbody>\n",
       "    <tr>\n",
       "      <th>0</th>\n",
       "      <td>9.50</td>\n",
       "      <td>138</td>\n",
       "      <td>73</td>\n",
       "      <td>11</td>\n",
       "      <td>276</td>\n",
       "      <td>120</td>\n",
       "      <td>Bad</td>\n",
       "      <td>42</td>\n",
       "      <td>17</td>\n",
       "      <td>Yes</td>\n",
       "      <td>Yes</td>\n",
       "    </tr>\n",
       "    <tr>\n",
       "      <th>1</th>\n",
       "      <td>11.22</td>\n",
       "      <td>111</td>\n",
       "      <td>48</td>\n",
       "      <td>16</td>\n",
       "      <td>260</td>\n",
       "      <td>83</td>\n",
       "      <td>Good</td>\n",
       "      <td>65</td>\n",
       "      <td>10</td>\n",
       "      <td>Yes</td>\n",
       "      <td>Yes</td>\n",
       "    </tr>\n",
       "    <tr>\n",
       "      <th>2</th>\n",
       "      <td>10.06</td>\n",
       "      <td>113</td>\n",
       "      <td>35</td>\n",
       "      <td>10</td>\n",
       "      <td>269</td>\n",
       "      <td>80</td>\n",
       "      <td>Medium</td>\n",
       "      <td>59</td>\n",
       "      <td>12</td>\n",
       "      <td>Yes</td>\n",
       "      <td>Yes</td>\n",
       "    </tr>\n",
       "    <tr>\n",
       "      <th>3</th>\n",
       "      <td>7.40</td>\n",
       "      <td>117</td>\n",
       "      <td>100</td>\n",
       "      <td>4</td>\n",
       "      <td>466</td>\n",
       "      <td>97</td>\n",
       "      <td>Medium</td>\n",
       "      <td>55</td>\n",
       "      <td>14</td>\n",
       "      <td>Yes</td>\n",
       "      <td>Yes</td>\n",
       "    </tr>\n",
       "    <tr>\n",
       "      <th>4</th>\n",
       "      <td>4.15</td>\n",
       "      <td>141</td>\n",
       "      <td>64</td>\n",
       "      <td>3</td>\n",
       "      <td>340</td>\n",
       "      <td>128</td>\n",
       "      <td>Bad</td>\n",
       "      <td>38</td>\n",
       "      <td>13</td>\n",
       "      <td>Yes</td>\n",
       "      <td>No</td>\n",
       "    </tr>\n",
       "  </tbody>\n",
       "</table>\n",
       "</div>"
      ],
      "text/plain": [
       "   Sales  CompPrice  Income  Advertising  Population  Price ShelveLoc  Age  \\\n",
       "0   9.50        138      73           11         276    120       Bad   42   \n",
       "1  11.22        111      48           16         260     83      Good   65   \n",
       "2  10.06        113      35           10         269     80    Medium   59   \n",
       "3   7.40        117     100            4         466     97    Medium   55   \n",
       "4   4.15        141      64            3         340    128       Bad   38   \n",
       "\n",
       "   Education Urban   US  \n",
       "0         17   Yes  Yes  \n",
       "1         10   Yes  Yes  \n",
       "2         12   Yes  Yes  \n",
       "3         14   Yes  Yes  \n",
       "4         13   Yes   No  "
      ]
     },
     "execution_count": 3,
     "metadata": {},
     "output_type": "execute_result"
    }
   ],
   "source": [
    "carseats=load_data('Carseats')\n",
    "carseats.head()"
   ]
  },
  {
   "cell_type": "code",
   "execution_count": 9,
   "id": "38f18700-e743-401f-b091-f3e9d6b77668",
   "metadata": {},
   "outputs": [
    {
     "name": "stdout",
     "output_type": "stream",
     "text": [
      "                            OLS Regression Results                            \n",
      "==============================================================================\n",
      "Dep. Variable:                  Sales   R-squared:                       0.150\n",
      "Model:                            OLS   Adj. R-squared:                  0.137\n",
      "Method:                 Least Squares   F-statistic:                     11.51\n",
      "Date:                Fri, 06 Dec 2024   Prob (F-statistic):           7.03e-12\n",
      "Time:                        23:45:56   Log-Likelihood:                -949.96\n",
      "No. Observations:                 400   AIC:                             1914.\n",
      "Df Residuals:                     393   BIC:                             1942.\n",
      "Df Model:                           6                                         \n",
      "Covariance Type:            nonrobust                                         \n",
      "===============================================================================\n",
      "                  coef    std err          t      P>|t|      [0.025      0.975]\n",
      "-------------------------------------------------------------------------------\n",
      "const           7.2737      1.520      4.785      0.000       4.285      10.262\n",
      "CompPrice       0.0106      0.009      1.217      0.224      -0.007       0.028\n",
      "Income          0.0139      0.005      2.931      0.004       0.005       0.023\n",
      "Advertising     0.1138      0.021      5.540      0.000       0.073       0.154\n",
      "Population     -0.0005      0.001     -0.570      0.569      -0.002       0.001\n",
      "Age            -0.0392      0.008     -4.808      0.000      -0.055      -0.023\n",
      "Education      -0.0411      0.051     -0.813      0.417      -0.140       0.058\n",
      "==============================================================================\n",
      "Omnibus:                        3.727   Durbin-Watson:                   1.916\n",
      "Prob(Omnibus):                  0.155   Jarque-Bera (JB):                3.505\n",
      "Skew:                           0.186   Prob(JB):                        0.173\n",
      "Kurtosis:                       3.269   Cond. No.                     3.85e+03\n",
      "==============================================================================\n",
      "\n",
      "Notes:\n",
      "[1] Standard Errors assume that the covariance matrix of the errors is correctly specified.\n",
      "[2] The condition number is large, 3.85e+03. This might indicate that there are\n",
      "strong multicollinearity or other numerical problems.\n"
     ]
    }
   ],
   "source": [
    "from ISLP.models import ModelSpec as MS\n",
    "X = carseats[['CompPrice','Income','Advertising','Population','Age','Education']]\n",
    "y = carseats['Sales']\n",
    "X = sm.add_constant(X)\n",
    "M = sm.OLS(y,X).fit()\n",
    "print(M.summary())"
   ]
  },
  {
   "cell_type": "code",
   "execution_count": 23,
   "id": "5268e278-3316-4f7f-b856-e4a45719a3f1",
   "metadata": {},
   "outputs": [
    {
     "name": "stdout",
     "output_type": "stream",
     "text": [
      "      Variable       p-value\n",
      "2  Advertising  4.377677e-08\n",
      "4          Age  2.788950e-06\n",
      "1       Income  2.309670e-03\n",
      "0    CompPrice  2.009398e-01\n",
      "5    Education  2.999442e-01\n",
      "3   Population  3.139816e-01\n"
     ]
    }
   ],
   "source": [
    "def get_p_values(data, response_var, predictor_vars):\n",
    "    p_values = {\n",
    "        var: sm.OLS(data[response_var], sm.add_constant(data[[var]])).fit().pvalues[var]\n",
    "        for var in predictor_vars\n",
    "    }\n",
    "    p_values_df = pd.DataFrame(p_values.items(), columns=['Variable', 'p-value']).sort_values('p-value')\n",
    "    return p_values_df\n",
    "\n",
    "predictor_vars = ['CompPrice', 'Income', 'Advertising', 'Population', 'Age', 'Education']\n",
    "response_var = 'Sales'\n",
    "p_values_df = get_p_values(carseats, response_var, predictor_vars)\n",
    "print(p_values_df)"
   ]
  },
  {
   "cell_type": "code",
   "execution_count": 25,
   "id": "6eb8ac71-13c0-4589-afad-63617b3f4496",
   "metadata": {},
   "outputs": [
    {
     "name": "stdout",
     "output_type": "stream",
     "text": [
      "\n",
      "Hypotheses Rejected under Type I Error Control (α = 0.05):\n",
      "      Variable       p-value\n",
      "2  Advertising  4.377677e-08\n",
      "4          Age  2.788950e-06\n",
      "1       Income  2.309670e-03\n"
     ]
    }
   ],
   "source": [
    "#2\n",
    "#control for type 1 error\n",
    "#H0: beta1 = 0 (The predictor X has no effect on Sales)\n",
    "alpha = 0.05\n",
    "\n",
    "rejected_type1 = p_values_df[p_values_df['p-value'] < alpha]\n",
    "\n",
    "print(\"\\nHypotheses Rejected under Type I Error Control (α = 0.05):\")\n",
    "print(rejected_type1)"
   ]
  },
  {
   "cell_type": "code",
   "execution_count": 29,
   "id": "3f5978e1-7940-47dc-b27b-5d7167b47237",
   "metadata": {},
   "outputs": [
    {
     "name": "stdout",
     "output_type": "stream",
     "text": [
      "\n",
      "Hypotheses Rejected under FWER Control\n",
      "      Variable       p-value\n",
      "2  Advertising  4.377677e-08\n",
      "4          Age  2.788950e-06\n",
      "1       Income  2.309670e-03\n"
     ]
    }
   ],
   "source": [
    "#3\n",
    "from statsmodels.stats.multitest import multipletests\n",
    "m = len(p_values_df)\n",
    "# Apply Bonferroni correction\n",
    "reject_bonferroni, pvals_corrected_bonf, _, _ = multipletests(p_values_df['p-value'], alpha, method='bonferroni')\n",
    "p_values_df['Bonferroni'] = reject_bonferroni\n",
    "\n",
    "rejected_fwer = p_values_df[p_values_df['Bonferroni']]\n",
    "\n",
    "print(\"\\nHypotheses Rejected under FWER Control\")\n",
    "print(rejected_fwer[['Variable', 'p-value']])"
   ]
  },
  {
   "cell_type": "code",
   "execution_count": 31,
   "id": "a79a4e33-8925-41c0-9932-ce8f98fbd5f1",
   "metadata": {},
   "outputs": [
    {
     "name": "stdout",
     "output_type": "stream",
     "text": [
      "\n",
      "Hypotheses Rejected under FDR Control :\n",
      "      Variable       p-value\n",
      "2  Advertising  4.377677e-08\n",
      "4          Age  2.788950e-06\n",
      "1       Income  2.309670e-03\n"
     ]
    }
   ],
   "source": [
    "#4.\n",
    "# Apply Benjamini-Hochberg correction\n",
    "reject_bh, pvals_corrected_bh, _, _ = multipletests(p_values_df['p-value'], alpha=0.2, method='fdr_bh')\n",
    "p_values_df['BH FDR'] = reject_bh\n",
    "\n",
    "rejected_fdr = p_values_df[p_values_df['BH FDR']]\n",
    "\n",
    "print(\"\\nHypotheses Rejected under FDR Control :\")\n",
    "print(rejected_fdr[['Variable', 'p-value']])"
   ]
  },
  {
   "cell_type": "markdown",
   "id": "e9f0cf44-a36a-48f9-b54e-9c57e52e767f",
   "metadata": {},
   "source": [
    "#in all three adverstising, age, income are significant"
   ]
  },
  {
   "cell_type": "code",
   "execution_count": null,
   "id": "e92dfa7e-ecbc-4b56-9737-5fa246dc2453",
   "metadata": {},
   "outputs": [],
   "source": []
  }
 ],
 "metadata": {
  "kernelspec": {
   "display_name": "Python 3 (ipykernel)",
   "language": "python",
   "name": "python3"
  },
  "language_info": {
   "codemirror_mode": {
    "name": "ipython",
    "version": 3
   },
   "file_extension": ".py",
   "mimetype": "text/x-python",
   "name": "python",
   "nbconvert_exporter": "python",
   "pygments_lexer": "ipython3",
   "version": "3.12.4"
  }
 },
 "nbformat": 4,
 "nbformat_minor": 5
}
